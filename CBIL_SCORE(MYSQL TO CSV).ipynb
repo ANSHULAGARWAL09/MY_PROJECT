{
 "cells": [
  {
   "cell_type": "code",
   "execution_count": 5,
   "metadata": {},
   "outputs": [
    {
     "name": "stdout",
     "output_type": "stream",
     "text": [
      "Requirement already satisfied: pymysql in c:\\users\\anshul\\anaconda3\\lib\\site-packages\n",
      "Requirement already satisfied: cryptography in c:\\users\\anshul\\anaconda3\\lib\\site-packages (from pymysql)\n",
      "Requirement already satisfied: idna>=2.1 in c:\\users\\anshul\\anaconda3\\lib\\site-packages (from cryptography->pymysql)\n",
      "Requirement already satisfied: asn1crypto>=0.21.0 in c:\\users\\anshul\\anaconda3\\lib\\site-packages (from cryptography->pymysql)\n",
      "Requirement already satisfied: six>=1.4.1 in c:\\users\\anshul\\anaconda3\\lib\\site-packages (from cryptography->pymysql)\n",
      "Requirement already satisfied: cffi>=1.7 in c:\\users\\anshul\\anaconda3\\lib\\site-packages (from cryptography->pymysql)\n",
      "Requirement already satisfied: pycparser in c:\\users\\anshul\\anaconda3\\lib\\site-packages (from cffi>=1.7->cryptography->pymysql)\n"
     ]
    },
    {
     "name": "stderr",
     "output_type": "stream",
     "text": [
      "You are using pip version 10.0.1, however version 18.0 is available.\n",
      "You should consider upgrading via the 'python -m pip install --upgrade pip' command.\n"
     ]
    }
   ],
   "source": [
    "!pip install pymysql\n",
    "import pandas as pd"
   ]
  },
  {
   "cell_type": "code",
   "execution_count": 6,
   "metadata": {},
   "outputs": [],
   "source": [
    "from sqlalchemy import create_engine\n",
    "import pandas as pd\n",
    "\n",
    "db_host = '18.136.56.185'\n",
    "username = 'dm_team1'\n",
    "user_pass = 'dm_team1123#'\n",
    "db_name = 'project_banking'\n",
    "\n",
    "conn = create_engine('mysql+pymysql://'+username+':'+user_pass+'@'+db_host+'/'+db_name)"
   ]
  },
  {
   "cell_type": "code",
   "execution_count": 7,
   "metadata": {},
   "outputs": [
    {
     "name": "stderr",
     "output_type": "stream",
     "text": [
      "C:\\Users\\Anshul\\Anaconda3\\lib\\site-packages\\IPython\\core\\interactiveshell.py:2728: DtypeWarning: Columns (19) have mixed types. Specify dtype option on import or set low_memory=False.\n",
      "  interactivity=interactivity, compiler=compiler, result=result)\n"
     ]
    },
    {
     "data": {
      "text/plain": [
       "(186329, 22)"
      ]
     },
     "execution_count": 7,
     "metadata": {},
     "output_type": "execute_result"
    }
   ],
   "source": [
    "query = \"select * from Cust_Account\"\n",
    "data = pd.read_sql(query,conn)\n",
    "data\n",
    "\n",
    "data.to_csv('Cust_Account.csv')\n",
    "data_csv = pd.read_csv('Cust_Account.csv')\n",
    "data_csv.shape"
   ]
  },
  {
   "cell_type": "code",
   "execution_count": 8,
   "metadata": {},
   "outputs": [
    {
     "name": "stderr",
     "output_type": "stream",
     "text": [
      "C:\\Users\\Anshul\\Anaconda3\\lib\\site-packages\\IPython\\core\\interactiveshell.py:2728: DtypeWarning: Columns (13,21,64) have mixed types. Specify dtype option on import or set low_memory=False.\n",
      "  interactivity=interactivity, compiler=compiler, result=result)\n"
     ]
    },
    {
     "data": {
      "text/plain": [
       "(23896, 84)"
      ]
     },
     "execution_count": 8,
     "metadata": {},
     "output_type": "execute_result"
    }
   ],
   "source": [
    "query1 = \"select * from Cust_Demographics\"\n",
    "data1 = pd.read_sql(query1,conn)\n",
    "data1\n",
    "\n",
    "data1.to_csv('Cust_Demographics.csv')\n",
    "data1_csv = pd.read_csv('Cust_Demographics.csv')\n",
    "data1_csv.shape"
   ]
  },
  {
   "cell_type": "code",
   "execution_count": 9,
   "metadata": {},
   "outputs": [
    {
     "data": {
      "text/plain": [
       "(413188, 7)"
      ]
     },
     "execution_count": 9,
     "metadata": {},
     "output_type": "execute_result"
    }
   ],
   "source": [
    "query2 = \"select * from Cust_Enquiry\"\n",
    "data2 = pd.read_sql(query2,conn)\n",
    "data2\n",
    "\n",
    "data2.to_csv('Cust_Enquiry.csv')\n",
    "data2_csv = pd.read_csv('Cust_Enquiry.csv')\n",
    "data2_csv.shape"
   ]
  },
  {
   "cell_type": "code",
   "execution_count": null,
   "metadata": {},
   "outputs": [],
   "source": []
  }
 ],
 "metadata": {
  "kernelspec": {
   "display_name": "Python 3",
   "language": "python",
   "name": "python3"
  },
  "language_info": {
   "codemirror_mode": {
    "name": "ipython",
    "version": 3
   },
   "file_extension": ".py",
   "mimetype": "text/x-python",
   "name": "python",
   "nbconvert_exporter": "python",
   "pygments_lexer": "ipython3",
   "version": "3.6.4"
  }
 },
 "nbformat": 4,
 "nbformat_minor": 2
}
