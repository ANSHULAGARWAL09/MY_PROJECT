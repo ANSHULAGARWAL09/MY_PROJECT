{
 "cells": [
  {
   "cell_type": "code",
   "execution_count": 23,
   "metadata": {},
   "outputs": [
    {
     "name": "stdout",
     "output_type": "stream",
     "text": [
      "teen titans\n",
      "justice league\n"
     ]
    }
   ],
   "source": [
    "team = \"teen titans\"\n",
    "\n",
    "\n",
    "def change_team():\n",
    "    global team\n",
    "    team = 'justice league'\n",
    "\n",
    "    \n",
    "print(team)\n",
    "change_team()\n",
    "print(team)"
   ]
  },
  {
   "cell_type": "code",
   "execution_count": 24,
   "metadata": {},
   "outputs": [
    {
     "name": "stdout",
     "output_type": "stream",
     "text": [
      "('a!!!', 'b!!!', 'c!!!')\n"
     ]
    }
   ],
   "source": [
    "def three_shouts(word1, word2, word3):\n",
    "    def inner(word):\n",
    "        return word + '!!!'\n",
    "    return (inner(word1), inner(word2), inner(word3))\n",
    "\n",
    "print(three_shouts('a', 'b', 'c'))"
   ]
  },
  {
   "cell_type": "code",
   "execution_count": 27,
   "metadata": {},
   "outputs": [
    {
     "name": "stdout",
     "output_type": "stream",
     "text": [
      "hellohello hellohellohello\n"
     ]
    }
   ],
   "source": [
    "def echo(n):\n",
    "    def inner_echo(word1):\n",
    "        echo_word = word1 * n\n",
    "        return echo_word\n",
    "\n",
    "    return inner_echo\n",
    "\n",
    "\n",
    "twice = echo(2)\n",
    "thrice = echo(3)\n",
    "\n",
    "print(twice('hello'), thrice('hello'))"
   ]
  },
  {
   "cell_type": "code",
   "execution_count": 28,
   "metadata": {},
   "outputs": [
    {
     "name": "stdout",
     "output_type": "stream",
     "text": [
      "hellohello\n",
      "hellohello!!!\n"
     ]
    }
   ],
   "source": [
    "def echo_shout(word):\n",
    "    echo_word = word+word\n",
    "    \n",
    "    print(echo_word)\n",
    "    def shout():\n",
    "        nonlocal echo_word\n",
    "        echo_word = echo_word + '!!!'\n",
    "    shout()\n",
    "    \n",
    "    \n",
    "    print(echo_word)\n",
    "\n",
    "echo_shout('hello')"
   ]
  },
  {
   "cell_type": "code",
   "execution_count": 1,
   "metadata": {},
   "outputs": [
    {
     "name": "stdout",
     "output_type": "stream",
     "text": [
      "Hey!!!\n",
      "HeyHeyHeyHeyHey!!!\n"
     ]
    }
   ],
   "source": [
    "def shout_echo(word1,echo=1 ):\n",
    "    echo_word = word1 * echo\n",
    "\n",
    "   \n",
    "    shout_word = echo_word + '!!!'\n",
    "\n",
    "   \n",
    "    return shout_word\n",
    "\n",
    "\n",
    "no_echo = shout_echo('Hey')\n",
    "\n",
    "\n",
    "with_echo = shout_echo('Hey', echo = 5)\n",
    "\n",
    "\n",
    "print(no_echo)\n",
    "print(with_echo)"
   ]
  },
  {
   "cell_type": "code",
   "execution_count": 2,
   "metadata": {},
   "outputs": [
    {
     "name": "stdout",
     "output_type": "stream",
     "text": [
      "HEYHEYHEYHEYHEY!!!\n",
      "HEY!!!\n"
     ]
    }
   ],
   "source": [
    "def shout_echo(word1, echo=1, intense=False):\n",
    "    \n",
    "    echo_word = word1 * echo\n",
    "\n",
    "    \n",
    "    if intense is True:\n",
    "        \n",
    "        echo_word_new = echo_word.upper() + '!!!'\n",
    "    else:\n",
    "        \n",
    "        echo_word_new = echo_word + '!!!'\n",
    "\n",
    "    \n",
    "    return echo_word_new\n",
    "\n",
    "\n",
    "with_big_echo = shout_echo(\"Hey\", echo=5, intense=True)\n",
    "\n",
    "\n",
    "big_no_echo = shout_echo(\"Hey\", intense=True)\n",
    "\n",
    "\n",
    "print(with_big_echo)\n",
    "print(big_no_echo)"
   ]
  },
  {
   "cell_type": "code",
   "execution_count": 4,
   "metadata": {},
   "outputs": [
    {
     "name": "stdout",
     "output_type": "stream",
     "text": [
      "luke\n",
      "luke leia han obi darth \n"
     ]
    }
   ],
   "source": [
    "def gibberish(*args):\n",
    "    \n",
    "    hodgepodge = ''\n",
    "\n",
    "    \n",
    "    for word in args:\n",
    "        hodgepodge += word\n",
    "\n",
    "    \n",
    "    return hodgepodge\n",
    "\n",
    "\n",
    "one_word = gibberish(\"luke\")\n",
    "\n",
    "\n",
    "many_words = gibberish(\"luke \", \"leia \", \"han \", \"obi \", \"darth \")\n",
    "\n",
    "\n",
    "print(one_word)\n",
    "print(many_words)"
   ]
  },
  {
   "cell_type": "code",
   "execution_count": 7,
   "metadata": {},
   "outputs": [
    {
     "name": "stdout",
     "output_type": "stream",
     "text": [
      "\n",
      "BEGIN:REPORT\n",
      "\n",
      "name: luke\n",
      "affiliation: jedi\n",
      "status: missing\n",
      "\n",
      "END:REPORT\n",
      "\n",
      "BEGIN:REPORT\n",
      "\n",
      "name: anakin\n",
      "affiliation: sith lord\n",
      "status: deceased\n",
      "\n",
      "END:REPORT\n"
     ]
    }
   ],
   "source": [
    "def report_status(**kwargs):\n",
    "    \n",
    "\n",
    "    print(\"\\nBEGIN:REPORT\\n\")\n",
    "\n",
    "   \n",
    "    for keys, values in kwargs.items():\n",
    "        print(keys + \": \" + values)\n",
    "\n",
    "    print(\"\\nEND:REPORT\")\n",
    "\n",
    "\n",
    "report_status(name=\"luke\",affiliation=\"jedi\",status=\"missing\")\n",
    "report_status(name=\"anakin\", affiliation=\"sith lord\", status=\"deceased\")"
   ]
  },
  {
   "cell_type": "code",
   "execution_count": null,
   "metadata": {},
   "outputs": [],
   "source": []
  }
 ],
 "metadata": {
  "kernelspec": {
   "display_name": "Python 3",
   "language": "python",
   "name": "python3"
  },
  "language_info": {
   "codemirror_mode": {
    "name": "ipython",
    "version": 3
   },
   "file_extension": ".py",
   "mimetype": "text/x-python",
   "name": "python",
   "nbconvert_exporter": "python",
   "pygments_lexer": "ipython3",
   "version": "3.6.4"
  }
 },
 "nbformat": 4,
 "nbformat_minor": 2
}
